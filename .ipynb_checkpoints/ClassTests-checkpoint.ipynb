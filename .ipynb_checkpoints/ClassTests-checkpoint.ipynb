{
 "cells": [
  {
   "cell_type": "code",
   "execution_count": 1,
   "id": "8b296e7e-9aee-4ed9-a3e6-9b4cb0368fd8",
   "metadata": {},
   "outputs": [],
   "source": [
    "from change_coords import *\n",
    "import numpy as np"
   ]
  },
  {
   "cell_type": "code",
   "execution_count": 2,
   "id": "f6f86c44-6b4f-4398-8cc7-95953b55c11b",
   "metadata": {},
   "outputs": [],
   "source": [
    "d = 7\n",
    "A = np.array([0, 1, 2])\n",
    "B = np.array([[1, 2, 3],\n",
    "              [0, 4, 5],\n",
    "              [0, 0, 6]])"
   ]
  },
  {
   "cell_type": "code",
   "execution_count": 4,
   "id": "bc831782-319e-4b1f-a97b-5989a873027c",
   "metadata": {},
   "outputs": [
    {
     "name": "stdout",
     "output_type": "stream",
     "text": [
      "7 + \n",
      "1 * x2 + 2 * x3 + \n",
      "1 * x1^2 + 2 * x1 * x2 + 3 * x1 * x3 + 4 * x2^2 + 5 * x2 * x3 + 6 * x3^2\n",
      "35\n",
      "35\n"
     ]
    }
   ],
   "source": [
    "p = Polynomial([d, A, B])\n",
    "print(p)\n",
    "print(p(np.array([0, 0, 2])))\n",
    "print(7+2*2+6*4)"
   ]
  },
  {
   "cell_type": "code",
   "execution_count": null,
   "id": "05215817-2747-4484-b811-a11f898f075e",
   "metadata": {},
   "outputs": [],
   "source": []
  }
 ],
 "metadata": {
  "kernelspec": {
   "display_name": "Python 3 (ipykernel)",
   "language": "python",
   "name": "python3"
  },
  "language_info": {
   "codemirror_mode": {
    "name": "ipython",
    "version": 3
   },
   "file_extension": ".py",
   "mimetype": "text/x-python",
   "name": "python",
   "nbconvert_exporter": "python",
   "pygments_lexer": "ipython3",
   "version": "3.9.13"
  }
 },
 "nbformat": 4,
 "nbformat_minor": 5
}
