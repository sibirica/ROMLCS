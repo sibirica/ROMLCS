{
 "cells": [
  {
   "cell_type": "code",
   "execution_count": 1,
   "id": "a93a6a26-23df-46f2-ae65-a7802e3109ed",
   "metadata": {},
   "outputs": [
    {
     "name": "stdout",
     "output_type": "stream",
     "text": [
      "v:  [1 3 5]\n",
      "v+p(v):  [1.1+0.1j 7.6-4.6j 5. +0.2j]\n",
      "f_inv(v+p(v)):  [1.+4.91494769e-13j 3.-1.10493195e-10j 5.+1.48678720e-13j]\n",
      "w:  [0.+1.j 0.+3.j 0.+5.j]\n",
      "w+p(w):  [-0.1+0.9j -4.6+7.6j  0. +4.8j]\n",
      "f_inv(w+p(w)):  [-5.64503663e-15+1.j -1.00014197e-12+3.j -1.18793639e-14+5.j]\n"
     ]
    }
   ],
   "source": [
    "import root_test"
   ]
  }
 ],
 "metadata": {
  "kernelspec": {
   "display_name": "Python 3 (ipykernel)",
   "language": "python",
   "name": "python3"
  },
  "language_info": {
   "codemirror_mode": {
    "name": "ipython",
    "version": 3
   },
   "file_extension": ".py",
   "mimetype": "text/x-python",
   "name": "python",
   "nbconvert_exporter": "python",
   "pygments_lexer": "ipython3",
   "version": "3.9.13"
  }
 },
 "nbformat": 4,
 "nbformat_minor": 5
}
